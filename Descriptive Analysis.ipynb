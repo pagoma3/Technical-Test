{
 "cells": [
  {
   "cell_type": "code",
   "execution_count": 1,
   "id": "71591f1a",
   "metadata": {
    "ExecuteTime": {
     "end_time": "2021-09-22T13:01:00.967513Z",
     "start_time": "2021-09-22T13:00:59.115815Z"
    }
   },
   "outputs": [],
   "source": [
    "# Import relevant libraries\n",
    "\n",
    "import pandas as pd\n",
    "import numpy as np\n",
    "import matplotlib.pyplot as plt\n",
    "import seaborn as sns\n",
    "import sqlite3\n"
   ]
  },
  {
   "cell_type": "code",
   "execution_count": 2,
   "id": "72a8f3c8",
   "metadata": {
    "ExecuteTime": {
     "end_time": "2021-09-22T13:01:00.992705Z",
     "start_time": "2021-09-22T13:01:00.971425Z"
    }
   },
   "outputs": [],
   "source": [
    "# Import database and translate to English:\n",
    "\n",
    "df = pd.read_csv(\"precipitation_barcelona.csv\")\n",
    "\n",
    "EN_names = {\"Any\" : \"Year\", \"Mes\" : \"Month\", \"Desc_Mes\" : \"Month_CA\", \"Precipitacions\" : \"Precipitation\"}\n",
    "\n",
    "df.rename(columns= EN_names, inplace=True)"
   ]
  },
  {
   "cell_type": "code",
   "execution_count": 3,
   "id": "9c27a315",
   "metadata": {
    "ExecuteTime": {
     "end_time": "2021-09-22T13:01:01.032457Z",
     "start_time": "2021-09-22T13:01:01.001178Z"
    }
   },
   "outputs": [],
   "source": [
    "df2 = pd.read_csv(\"temperature_barcelona.csv\")\n",
    "\n",
    "EN_names2 = {\"Any\" : \"Year\", \"Mes\" : \"Month\", \"Desc_Mes\" : \"Month_CA\", \"Temperatura\" : \"Temperature\"}\n",
    "\n",
    "df2.rename(columns= EN_names2, inplace=True)"
   ]
  },
  {
   "cell_type": "code",
   "execution_count": 4,
   "id": "d27b7f1d",
   "metadata": {
    "ExecuteTime": {
     "end_time": "2021-09-22T13:01:01.069761Z",
     "start_time": "2021-09-22T13:01:01.038893Z"
    }
   },
   "outputs": [],
   "source": [
    "new_thing = df2[df2[\"Year\"] > 1785]\n",
    "\n",
    "df[\"Temperature\"] = new_thing[\"Temperature\"].copy()\n",
    "\n",
    "df.dropna(inplace=True)\n",
    "\n",
    "df.drop(\"Month_CA\", axis=1, inplace=True)"
   ]
  },
  {
   "cell_type": "code",
   "execution_count": 5,
   "id": "3c8bd7e5",
   "metadata": {
    "ExecuteTime": {
     "end_time": "2021-09-22T13:01:01.126387Z",
     "start_time": "2021-09-22T13:01:01.072659Z"
    }
   },
   "outputs": [
    {
     "data": {
      "text/html": [
       "<div>\n",
       "<style scoped>\n",
       "    .dataframe tbody tr th:only-of-type {\n",
       "        vertical-align: middle;\n",
       "    }\n",
       "\n",
       "    .dataframe tbody tr th {\n",
       "        vertical-align: top;\n",
       "    }\n",
       "\n",
       "    .dataframe thead th {\n",
       "        text-align: right;\n",
       "    }\n",
       "</style>\n",
       "<table border=\"1\" class=\"dataframe\">\n",
       "  <thead>\n",
       "    <tr style=\"text-align: right;\">\n",
       "      <th></th>\n",
       "      <th>Year</th>\n",
       "      <th>Month</th>\n",
       "      <th>Precipitation</th>\n",
       "      <th>Temperature</th>\n",
       "    </tr>\n",
       "  </thead>\n",
       "  <tbody>\n",
       "    <tr>\n",
       "      <th>2231</th>\n",
       "      <td>1971</td>\n",
       "      <td>12</td>\n",
       "      <td>365.8</td>\n",
       "      <td>9.3</td>\n",
       "    </tr>\n",
       "    <tr>\n",
       "      <th>1076</th>\n",
       "      <td>1875</td>\n",
       "      <td>9</td>\n",
       "      <td>338.5</td>\n",
       "      <td>20.6</td>\n",
       "    </tr>\n",
       "    <tr>\n",
       "      <th>2374</th>\n",
       "      <td>1983</td>\n",
       "      <td>11</td>\n",
       "      <td>330.4</td>\n",
       "      <td>11.7</td>\n",
       "    </tr>\n",
       "    <tr>\n",
       "      <th>1041</th>\n",
       "      <td>1872</td>\n",
       "      <td>10</td>\n",
       "      <td>328.6</td>\n",
       "      <td>15.1</td>\n",
       "    </tr>\n",
       "    <tr>\n",
       "      <th>2421</th>\n",
       "      <td>1987</td>\n",
       "      <td>10</td>\n",
       "      <td>325.4</td>\n",
       "      <td>16.8</td>\n",
       "    </tr>\n",
       "    <tr>\n",
       "      <th>1630</th>\n",
       "      <td>1921</td>\n",
       "      <td>11</td>\n",
       "      <td>289.2</td>\n",
       "      <td>10.2</td>\n",
       "    </tr>\n",
       "    <tr>\n",
       "      <th>920</th>\n",
       "      <td>1862</td>\n",
       "      <td>9</td>\n",
       "      <td>285.6</td>\n",
       "      <td>18.8</td>\n",
       "    </tr>\n",
       "    <tr>\n",
       "      <th>2157</th>\n",
       "      <td>1965</td>\n",
       "      <td>10</td>\n",
       "      <td>285.1</td>\n",
       "      <td>14.9</td>\n",
       "    </tr>\n",
       "    <tr>\n",
       "      <th>2084</th>\n",
       "      <td>1959</td>\n",
       "      <td>9</td>\n",
       "      <td>284.5</td>\n",
       "      <td>20.7</td>\n",
       "    </tr>\n",
       "    <tr>\n",
       "      <th>1989</th>\n",
       "      <td>1951</td>\n",
       "      <td>10</td>\n",
       "      <td>281.1</td>\n",
       "      <td>17.2</td>\n",
       "    </tr>\n",
       "  </tbody>\n",
       "</table>\n",
       "</div>"
      ],
      "text/plain": [
       "      Year  Month  Precipitation  Temperature\n",
       "2231  1971     12          365.8          9.3\n",
       "1076  1875      9          338.5         20.6\n",
       "2374  1983     11          330.4         11.7\n",
       "1041  1872     10          328.6         15.1\n",
       "2421  1987     10          325.4         16.8\n",
       "1630  1921     11          289.2         10.2\n",
       "920   1862      9          285.6         18.8\n",
       "2157  1965     10          285.1         14.9\n",
       "2084  1959      9          284.5         20.7\n",
       "1989  1951     10          281.1         17.2"
      ]
     },
     "execution_count": 5,
     "metadata": {},
     "output_type": "execute_result"
    }
   ],
   "source": [
    "# Get 10 rainiest months ever:\n",
    "\n",
    "df.sort_values(by=\"Precipitation\", ascending=False, inplace=True)\n",
    "\n",
    "df.head(10)\n",
    "\n",
    "# Rainiest months even have been Autumn months (September to December)"
   ]
  },
  {
   "cell_type": "code",
   "execution_count": 6,
   "id": "c899258d",
   "metadata": {
    "ExecuteTime": {
     "end_time": "2021-09-22T13:01:01.193960Z",
     "start_time": "2021-09-22T13:01:01.167415Z"
    }
   },
   "outputs": [
    {
     "data": {
      "text/html": [
       "<div>\n",
       "<style scoped>\n",
       "    .dataframe tbody tr th:only-of-type {\n",
       "        vertical-align: middle;\n",
       "    }\n",
       "\n",
       "    .dataframe tbody tr th {\n",
       "        vertical-align: top;\n",
       "    }\n",
       "\n",
       "    .dataframe thead th {\n",
       "        text-align: right;\n",
       "    }\n",
       "</style>\n",
       "<table border=\"1\" class=\"dataframe\">\n",
       "  <thead>\n",
       "    <tr style=\"text-align: right;\">\n",
       "      <th></th>\n",
       "      <th>Year</th>\n",
       "      <th>Month</th>\n",
       "      <th>Precipitation</th>\n",
       "      <th>Temperature</th>\n",
       "    </tr>\n",
       "  </thead>\n",
       "  <tbody>\n",
       "    <tr>\n",
       "      <th>2683</th>\n",
       "      <td>2009</td>\n",
       "      <td>8</td>\n",
       "      <td>0.4</td>\n",
       "      <td>28.5</td>\n",
       "    </tr>\n",
       "    <tr>\n",
       "      <th>2718</th>\n",
       "      <td>2012</td>\n",
       "      <td>7</td>\n",
       "      <td>21.9</td>\n",
       "      <td>27.1</td>\n",
       "    </tr>\n",
       "    <tr>\n",
       "      <th>1255</th>\n",
       "      <td>1890</td>\n",
       "      <td>8</td>\n",
       "      <td>82.6</td>\n",
       "      <td>26.4</td>\n",
       "    </tr>\n",
       "    <tr>\n",
       "      <th>2755</th>\n",
       "      <td>2015</td>\n",
       "      <td>8</td>\n",
       "      <td>41.0</td>\n",
       "      <td>26.3</td>\n",
       "    </tr>\n",
       "    <tr>\n",
       "      <th>2682</th>\n",
       "      <td>2009</td>\n",
       "      <td>7</td>\n",
       "      <td>45.0</td>\n",
       "      <td>26.1</td>\n",
       "    </tr>\n",
       "    <tr>\n",
       "      <th>2791</th>\n",
       "      <td>2018</td>\n",
       "      <td>8</td>\n",
       "      <td>36.5</td>\n",
       "      <td>26.0</td>\n",
       "    </tr>\n",
       "    <tr>\n",
       "      <th>2574</th>\n",
       "      <td>2000</td>\n",
       "      <td>7</td>\n",
       "      <td>1.9</td>\n",
       "      <td>25.9</td>\n",
       "    </tr>\n",
       "    <tr>\n",
       "      <th>2442</th>\n",
       "      <td>1989</td>\n",
       "      <td>7</td>\n",
       "      <td>3.7</td>\n",
       "      <td>25.8</td>\n",
       "    </tr>\n",
       "    <tr>\n",
       "      <th>2575</th>\n",
       "      <td>2000</td>\n",
       "      <td>8</td>\n",
       "      <td>13.7</td>\n",
       "      <td>25.7</td>\n",
       "    </tr>\n",
       "    <tr>\n",
       "      <th>1782</th>\n",
       "      <td>1934</td>\n",
       "      <td>7</td>\n",
       "      <td>0.2</td>\n",
       "      <td>25.7</td>\n",
       "    </tr>\n",
       "  </tbody>\n",
       "</table>\n",
       "</div>"
      ],
      "text/plain": [
       "      Year  Month  Precipitation  Temperature\n",
       "2683  2009      8            0.4         28.5\n",
       "2718  2012      7           21.9         27.1\n",
       "1255  1890      8           82.6         26.4\n",
       "2755  2015      8           41.0         26.3\n",
       "2682  2009      7           45.0         26.1\n",
       "2791  2018      8           36.5         26.0\n",
       "2574  2000      7            1.9         25.9\n",
       "2442  1989      7            3.7         25.8\n",
       "2575  2000      8           13.7         25.7\n",
       "1782  1934      7            0.2         25.7"
      ]
     },
     "execution_count": 6,
     "metadata": {},
     "output_type": "execute_result"
    }
   ],
   "source": [
    "# Get 10 hottest and months ever:\n",
    "\n",
    "df.sort_values(by=\"Temperature\", ascending=False, inplace=True)\n",
    "\n",
    "df.head(10)\n",
    "\n",
    "# Global warming is real"
   ]
  },
  {
   "cell_type": "code",
   "execution_count": 7,
   "id": "2c432102",
   "metadata": {
    "ExecuteTime": {
     "end_time": "2021-09-22T13:01:01.232739Z",
     "start_time": "2021-09-22T13:01:01.198707Z"
    }
   },
   "outputs": [
    {
     "data": {
      "text/html": [
       "<div>\n",
       "<style scoped>\n",
       "    .dataframe tbody tr th:only-of-type {\n",
       "        vertical-align: middle;\n",
       "    }\n",
       "\n",
       "    .dataframe tbody tr th {\n",
       "        vertical-align: top;\n",
       "    }\n",
       "\n",
       "    .dataframe thead th {\n",
       "        text-align: right;\n",
       "    }\n",
       "</style>\n",
       "<table border=\"1\" class=\"dataframe\">\n",
       "  <thead>\n",
       "    <tr style=\"text-align: right;\">\n",
       "      <th></th>\n",
       "      <th>Year</th>\n",
       "      <th>Month</th>\n",
       "      <th>Precipitation</th>\n",
       "      <th>Temperature</th>\n",
       "    </tr>\n",
       "  </thead>\n",
       "  <tbody>\n",
       "    <tr>\n",
       "      <th>2113</th>\n",
       "      <td>1962</td>\n",
       "      <td>2</td>\n",
       "      <td>77.2</td>\n",
       "      <td>2.5</td>\n",
       "    </tr>\n",
       "    <tr>\n",
       "      <th>816</th>\n",
       "      <td>1854</td>\n",
       "      <td>1</td>\n",
       "      <td>12.4</td>\n",
       "      <td>3.4</td>\n",
       "    </tr>\n",
       "    <tr>\n",
       "      <th>264</th>\n",
       "      <td>1808</td>\n",
       "      <td>1</td>\n",
       "      <td>4.9</td>\n",
       "      <td>3.6</td>\n",
       "    </tr>\n",
       "    <tr>\n",
       "      <th>600</th>\n",
       "      <td>1836</td>\n",
       "      <td>1</td>\n",
       "      <td>35.0</td>\n",
       "      <td>4.1</td>\n",
       "    </tr>\n",
       "    <tr>\n",
       "      <th>2460</th>\n",
       "      <td>1991</td>\n",
       "      <td>1</td>\n",
       "      <td>41.8</td>\n",
       "      <td>4.3</td>\n",
       "    </tr>\n",
       "    <tr>\n",
       "      <th>1980</th>\n",
       "      <td>1951</td>\n",
       "      <td>1</td>\n",
       "      <td>56.8</td>\n",
       "      <td>4.3</td>\n",
       "    </tr>\n",
       "    <tr>\n",
       "      <th>1103</th>\n",
       "      <td>1877</td>\n",
       "      <td>12</td>\n",
       "      <td>26.2</td>\n",
       "      <td>4.4</td>\n",
       "    </tr>\n",
       "    <tr>\n",
       "      <th>420</th>\n",
       "      <td>1821</td>\n",
       "      <td>1</td>\n",
       "      <td>37.3</td>\n",
       "      <td>4.4</td>\n",
       "    </tr>\n",
       "    <tr>\n",
       "      <th>877</th>\n",
       "      <td>1859</td>\n",
       "      <td>2</td>\n",
       "      <td>10.9</td>\n",
       "      <td>4.5</td>\n",
       "    </tr>\n",
       "    <tr>\n",
       "      <th>1092</th>\n",
       "      <td>1877</td>\n",
       "      <td>1</td>\n",
       "      <td>2.3</td>\n",
       "      <td>4.6</td>\n",
       "    </tr>\n",
       "  </tbody>\n",
       "</table>\n",
       "</div>"
      ],
      "text/plain": [
       "      Year  Month  Precipitation  Temperature\n",
       "2113  1962      2           77.2          2.5\n",
       "816   1854      1           12.4          3.4\n",
       "264   1808      1            4.9          3.6\n",
       "600   1836      1           35.0          4.1\n",
       "2460  1991      1           41.8          4.3\n",
       "1980  1951      1           56.8          4.3\n",
       "1103  1877     12           26.2          4.4\n",
       "420   1821      1           37.3          4.4\n",
       "877   1859      2           10.9          4.5\n",
       "1092  1877      1            2.3          4.6"
      ]
     },
     "execution_count": 7,
     "metadata": {},
     "output_type": "execute_result"
    }
   ],
   "source": [
    "df.sort_values(by=\"Temperature\", ascending=True, inplace=True)\n",
    "\n",
    "df.head(10)\n",
    "\n",
    "# Most of the coldest months ever are in the XIXth Century"
   ]
  },
  {
   "cell_type": "code",
   "execution_count": 8,
   "id": "77ffef5a",
   "metadata": {
    "ExecuteTime": {
     "end_time": "2021-09-22T13:01:01.267368Z",
     "start_time": "2021-09-22T13:01:01.245170Z"
    }
   },
   "outputs": [
    {
     "data": {
      "text/plain": [
       "count    2748.000000\n",
       "mean       49.302511\n",
       "std        45.084442\n",
       "min         0.000000\n",
       "25%        16.900000\n",
       "50%        37.600000\n",
       "75%        68.825000\n",
       "max       365.800000\n",
       "Name: Precipitation, dtype: float64"
      ]
     },
     "execution_count": 8,
     "metadata": {},
     "output_type": "execute_result"
    }
   ],
   "source": [
    "# Get monthly rain distribution:\n",
    "\n",
    "df[\"Precipitation\"].describe()\n",
    "\n",
    "# Big difference between third and fourth quartile: very rainy months get very rainy in comparison to the rest of \n",
    "# the year"
   ]
  },
  {
   "cell_type": "code",
   "execution_count": 9,
   "id": "4cb87bed",
   "metadata": {
    "ExecuteTime": {
     "end_time": "2021-09-22T13:01:01.869247Z",
     "start_time": "2021-09-22T13:01:01.278993Z"
    }
   },
   "outputs": [
    {
     "data": {
      "text/plain": [
       "<matplotlib.collections.PathCollection at 0x7fab48c7ff70>"
      ]
     },
     "execution_count": 9,
     "metadata": {},
     "output_type": "execute_result"
    },
    {
     "data": {
      "image/png": "[encoded data removed]",
      "text/plain": [
       "<Figure size 432x288 with 1 Axes>"
      ]
     },
     "metadata": {
      "needs_background": "light"
     },
     "output_type": "display_data"
    }
   ],
   "source": [
    "# Show total rain per year\n",
    "\n",
    "by_year = df[[\"Year\", \"Precipitation\"]]\n",
    "\n",
    "added = by_year.groupby(\"Year\").aggregate(sum)\n",
    "\n",
    "plt.scatter(x=added.index, y=added[\"Precipitation\"])\n",
    "\n",
    "# Aparently the overall level of rain is higher than it used to be in the XIXth century"
   ]
  },
  {
   "cell_type": "code",
   "execution_count": 10,
   "id": "244855d8",
   "metadata": {
    "ExecuteTime": {
     "end_time": "2021-09-22T13:01:02.075509Z",
     "start_time": "2021-09-22T13:01:01.872759Z"
    }
   },
   "outputs": [
    {
     "data": {
      "text/plain": [
       "<matplotlib.collections.PathCollection at 0x7fab48e3f1c0>"
      ]
     },
     "execution_count": 10,
     "metadata": {},
     "output_type": "execute_result"
    },
    {
     "data": {
      "image/png": "[encoded data removed]",
      "text/plain": [
       "<Figure size 432x288 with 1 Axes>"
      ]
     },
     "metadata": {
      "needs_background": "light"
     },
     "output_type": "display_data"
    }
   ],
   "source": [
    "# Show total temperature per year\n",
    "\n",
    "by_year_t = df[[\"Year\", \"Temperature\"]]\n",
    "\n",
    "added_t = by_year_t.groupby(\"Year\").aggregate(sum)\n",
    "\n",
    "plt.scatter(x=added_t.index, y=added_t[\"Temperature\"])\n",
    "\n",
    "# Temperatures in the last century, especially after the 1970s/80s, have augmented dramatically"
   ]
  },
  {
   "cell_type": "code",
   "execution_count": 11,
   "id": "cafa9ef9",
   "metadata": {
    "ExecuteTime": {
     "end_time": "2021-09-22T13:01:02.089874Z",
     "start_time": "2021-09-22T13:01:02.078760Z"
    }
   },
   "outputs": [
    {
     "data": {
      "text/html": [
       "<div>\n",
       "<style scoped>\n",
       "    .dataframe tbody tr th:only-of-type {\n",
       "        vertical-align: middle;\n",
       "    }\n",
       "\n",
       "    .dataframe tbody tr th {\n",
       "        vertical-align: top;\n",
       "    }\n",
       "\n",
       "    .dataframe thead th {\n",
       "        text-align: right;\n",
       "    }\n",
       "</style>\n",
       "<table border=\"1\" class=\"dataframe\">\n",
       "  <thead>\n",
       "    <tr style=\"text-align: right;\">\n",
       "      <th></th>\n",
       "      <th>Precipitation</th>\n",
       "    </tr>\n",
       "    <tr>\n",
       "      <th>Year</th>\n",
       "      <th></th>\n",
       "    </tr>\n",
       "  </thead>\n",
       "  <tbody>\n",
       "    <tr>\n",
       "      <th>1971</th>\n",
       "      <td>1122.7</td>\n",
       "    </tr>\n",
       "    <tr>\n",
       "      <th>1901</th>\n",
       "      <td>1030.6</td>\n",
       "    </tr>\n",
       "    <tr>\n",
       "      <th>2018</th>\n",
       "      <td>988.0</td>\n",
       "    </tr>\n",
       "    <tr>\n",
       "      <th>1996</th>\n",
       "      <td>982.4</td>\n",
       "    </tr>\n",
       "    <tr>\n",
       "      <th>1987</th>\n",
       "      <td>982.3</td>\n",
       "    </tr>\n",
       "    <tr>\n",
       "      <th>1872</th>\n",
       "      <td>980.0</td>\n",
       "    </tr>\n",
       "    <tr>\n",
       "      <th>1951</th>\n",
       "      <td>964.7</td>\n",
       "    </tr>\n",
       "    <tr>\n",
       "      <th>1959</th>\n",
       "      <td>963.8</td>\n",
       "    </tr>\n",
       "    <tr>\n",
       "      <th>2002</th>\n",
       "      <td>963.5</td>\n",
       "    </tr>\n",
       "    <tr>\n",
       "      <th>1875</th>\n",
       "      <td>927.4</td>\n",
       "    </tr>\n",
       "  </tbody>\n",
       "</table>\n",
       "</div>"
      ],
      "text/plain": [
       "      Precipitation\n",
       "Year               \n",
       "1971         1122.7\n",
       "1901         1030.6\n",
       "2018          988.0\n",
       "1996          982.4\n",
       "1987          982.3\n",
       "1872          980.0\n",
       "1951          964.7\n",
       "1959          963.8\n",
       "2002          963.5\n",
       "1875          927.4"
      ]
     },
     "execution_count": 11,
     "metadata": {},
     "output_type": "execute_result"
    }
   ],
   "source": [
    "# Get rainiest years ever\n",
    "\n",
    "added.sort_values(by=\"Precipitation\", ascending=False, inplace=True)\n",
    "\n",
    "added.head(10)\n",
    "\n",
    "# 1971, 1901 and 2018 are the rainiest years on record. Most of the top 10 years are after 1950"
   ]
  },
  {
   "cell_type": "code",
   "execution_count": 12,
   "id": "53ba8a00",
   "metadata": {
    "ExecuteTime": {
     "end_time": "2021-09-22T13:01:02.111424Z",
     "start_time": "2021-09-22T13:01:02.092729Z"
    }
   },
   "outputs": [
    {
     "data": {
      "text/plain": [
       "count     229.000000\n",
       "mean      591.630131\n",
       "std       152.884434\n",
       "min       215.600000\n",
       "25%       497.600000\n",
       "50%       573.000000\n",
       "75%       676.600000\n",
       "max      1122.700000\n",
       "Name: Precipitation, dtype: float64"
      ]
     },
     "execution_count": 12,
     "metadata": {},
     "output_type": "execute_result"
    }
   ],
   "source": [
    "added[\"Precipitation\"].describe()\n",
    "\n",
    "# In terms of years, the distribution is quite more regular than in terms of months"
   ]
  },
  {
   "cell_type": "code",
   "execution_count": 13,
   "id": "f9025ba1",
   "metadata": {
    "ExecuteTime": {
     "end_time": "2021-09-22T13:01:02.295233Z",
     "start_time": "2021-09-22T13:01:02.118473Z"
    }
   },
   "outputs": [
    {
     "data": {
      "text/plain": [
       "<BarContainer object of 12 artists>"
      ]
     },
     "execution_count": 13,
     "metadata": {},
     "output_type": "execute_result"
    },
    {
     "data": {
      "image/png": "[encoded data removed]",
      "text/plain": [
       "<Figure size 432x288 with 1 Axes>"
      ]
     },
     "metadata": {
      "needs_background": "light"
     },
     "output_type": "display_data"
    }
   ],
   "source": [
    "# Accumulated records per month\n",
    "\n",
    "by_month = df[[\"Month\", \"Precipitation\"]]\n",
    "\n",
    "added_m = by_month.groupby(\"Month\").aggregate(sum)\n",
    "\n",
    "plt.bar(x = added_m.index, height = added_m[\"Precipitation\"])\n",
    "\n",
    "# Acculmulated rain per month: very seasonal, Fall is the rainiest, followed by Spring, then Winter and finally \n",
    "# Summer. Overall, July is the driest month, September/October the wettest"
   ]
  },
  {
   "cell_type": "code",
   "execution_count": 14,
   "id": "21de2153",
   "metadata": {
    "ExecuteTime": {
     "end_time": "2021-09-22T13:01:02.514456Z",
     "start_time": "2021-09-22T13:01:02.305003Z"
    }
   },
   "outputs": [
    {
     "data": {
      "text/plain": [
       "<BarContainer object of 12 artists>"
      ]
     },
     "execution_count": 14,
     "metadata": {},
     "output_type": "execute_result"
    },
    {
     "data": {
      "image/png": "[encoded data removed]",
      "text/plain": [
       "<Figure size 432x288 with 1 Axes>"
      ]
     },
     "metadata": {
      "needs_background": "light"
     },
     "output_type": "display_data"
    }
   ],
   "source": [
    "# Accumulated temperature per month\n",
    "\n",
    "by_month = df[[\"Month\", \"Temperature\"]]\n",
    "\n",
    "added_m = by_month.groupby(\"Month\").aggregate(sum)\n",
    "\n",
    "plt.bar(x = added_m.index, height = added_m[\"Temperature\"])\n",
    "\n",
    "# The peak temperature happens in August and the lowest "
   ]
  },
  {
   "cell_type": "code",
   "execution_count": 15,
   "id": "5699c9ef",
   "metadata": {
    "ExecuteTime": {
     "end_time": "2021-09-22T13:01:02.756518Z",
     "start_time": "2021-09-22T13:01:02.518333Z"
    }
   },
   "outputs": [],
   "source": [
    "# Save as SQL table:\n",
    "\n",
    "conn = sqlite3.connect('test_database')\n",
    "c = conn.cursor()\n",
    "\n",
    "c.execute('CREATE TABLE IF NOT EXISTS BCN_Hist_Precipitation (year number, month number, month_ca text, precipitation number)')\n",
    "conn.commit()\n",
    "\n",
    "df.to_sql(\"BCN_Hist_Precipitation.sql\", conn, if_exists='replace', index = False)"
   ]
  },
  {
   "cell_type": "code",
   "execution_count": 16,
   "id": "5b29b316",
   "metadata": {
    "ExecuteTime": {
     "end_time": "2021-09-22T13:01:02.786646Z",
     "start_time": "2021-09-22T13:01:02.759214Z"
    }
   },
   "outputs": [],
   "source": [
    "df.to_csv(\"Temp+Prec\")"
   ]
  }
 ],
 "metadata": {
  "kernelspec": {
   "display_name": "Python 3",
   "language": "python",
   "name": "python3"
  },
  "language_info": {
   "codemirror_mode": {
    "name": "ipython",
    "version": 3
   },
   "file_extension": ".py",
   "mimetype": "text/x-python",
   "name": "python",
   "nbconvert_exporter": "python",
   "pygments_lexer": "ipython3",
   "version": "3.8.8"
  },
  "varInspector": {
   "cols": {
    "lenName": 16,
    "lenType": 16,
    "lenVar": 40
   },
   "kernels_config": {
    "python": {
     "delete_cmd_postfix": "",
     "delete_cmd_prefix": "del ",
     "library": "var_list.py",
     "varRefreshCmd": "print(var_dic_list())"
    },
    "r": {
     "delete_cmd_postfix": ") ",
     "delete_cmd_prefix": "rm(",
     "library": "var_list.r",
     "varRefreshCmd": "cat(var_dic_list()) "
    }
   },
   "types_to_exclude": [
    "module",
    "function",
    "builtin_function_or_method",
    "instance",
    "_Feature"
   ],
   "window_display": false
  }
 },
 "nbformat": 4,
 "nbformat_minor": 5
}
