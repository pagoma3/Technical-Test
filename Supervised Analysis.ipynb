{
 "cells": [
  {
   "cell_type": "code",
   "execution_count": 1,
   "id": "4426f325",
   "metadata": {
    "ExecuteTime": {
     "end_time": "2021-09-22T15:03:59.459025Z",
     "start_time": "2021-09-22T15:03:55.731087Z"
    }
   },
   "outputs": [],
   "source": [
    "# Import relevant libraries:\n",
    "\n",
    "import pandas as pd\n",
    "import numpy as np\n",
    "import matplotlib.pyplot as plt\n",
    "import statsmodels.api as sm\n",
    "\n",
    "from sklearn import metrics\n",
    "from sklearn import svm\n",
    "from sklearn.linear_model import LogisticRegression\n",
    "from sklearn.model_selection import train_test_split\n",
    "from sklearn.ensemble import RandomForestRegressor\n",
    "from sklearn.metrics import mean_squared_error as mse\n"
   ]
  },
  {
   "cell_type": "code",
   "execution_count": 2,
   "id": "4a7d2136",
   "metadata": {
    "ExecuteTime": {
     "end_time": "2021-09-22T15:03:59.530506Z",
     "start_time": "2021-09-22T15:03:59.475786Z"
    }
   },
   "outputs": [],
   "source": [
    "# The goal is to obtain a predictor model for the amount of rain in a given month. The predictors are previous \n",
    "# months by order of less rainy to most and temperature, which is expected to have a negative correlation"
   ]
  },
  {
   "cell_type": "code",
   "execution_count": 3,
   "id": "e4d7d37b",
   "metadata": {
    "ExecuteTime": {
     "end_time": "2021-09-22T15:03:59.655375Z",
     "start_time": "2021-09-22T15:03:59.620242Z"
    }
   },
   "outputs": [],
   "source": [
    "# Open dataset:\n",
    "\n",
    "df = pd.read_csv(\"Temp+Prec\")"
   ]
  },
  {
   "cell_type": "code",
   "execution_count": 4,
   "id": "31662a36",
   "metadata": {
    "ExecuteTime": {
     "end_time": "2021-09-22T15:03:59.725209Z",
     "start_time": "2021-09-22T15:03:59.679654Z"
    }
   },
   "outputs": [
    {
     "data": {
      "text/html": [
       "<div>\n",
       "<style scoped>\n",
       "    .dataframe tbody tr th:only-of-type {\n",
       "        vertical-align: middle;\n",
       "    }\n",
       "\n",
       "    .dataframe tbody tr th {\n",
       "        vertical-align: top;\n",
       "    }\n",
       "\n",
       "    .dataframe thead th {\n",
       "        text-align: right;\n",
       "    }\n",
       "</style>\n",
       "<table border=\"1\" class=\"dataframe\">\n",
       "  <thead>\n",
       "    <tr style=\"text-align: right;\">\n",
       "      <th></th>\n",
       "      <th>Precipitation</th>\n",
       "    </tr>\n",
       "    <tr>\n",
       "      <th>Month</th>\n",
       "      <th></th>\n",
       "    </tr>\n",
       "  </thead>\n",
       "  <tbody>\n",
       "    <tr>\n",
       "      <th>7</th>\n",
       "      <td>6012.4</td>\n",
       "    </tr>\n",
       "    <tr>\n",
       "      <th>2</th>\n",
       "      <td>8068.4</td>\n",
       "    </tr>\n",
       "    <tr>\n",
       "      <th>6</th>\n",
       "      <td>8536.2</td>\n",
       "    </tr>\n",
       "    <tr>\n",
       "      <th>1</th>\n",
       "      <td>8755.7</td>\n",
       "    </tr>\n",
       "    <tr>\n",
       "      <th>8</th>\n",
       "      <td>9041.3</td>\n",
       "    </tr>\n",
       "    <tr>\n",
       "      <th>12</th>\n",
       "      <td>9929.2</td>\n",
       "    </tr>\n",
       "    <tr>\n",
       "      <th>3</th>\n",
       "      <td>11119.1</td>\n",
       "    </tr>\n",
       "    <tr>\n",
       "      <th>4</th>\n",
       "      <td>12402.2</td>\n",
       "    </tr>\n",
       "    <tr>\n",
       "      <th>5</th>\n",
       "      <td>12454.7</td>\n",
       "    </tr>\n",
       "    <tr>\n",
       "      <th>11</th>\n",
       "      <td>13170.7</td>\n",
       "    </tr>\n",
       "    <tr>\n",
       "      <th>9</th>\n",
       "      <td>17966.5</td>\n",
       "    </tr>\n",
       "    <tr>\n",
       "      <th>10</th>\n",
       "      <td>18026.9</td>\n",
       "    </tr>\n",
       "  </tbody>\n",
       "</table>\n",
       "</div>"
      ],
      "text/plain": [
       "       Precipitation\n",
       "Month               \n",
       "7             6012.4\n",
       "2             8068.4\n",
       "6             8536.2\n",
       "1             8755.7\n",
       "8             9041.3\n",
       "12            9929.2\n",
       "3            11119.1\n",
       "4            12402.2\n",
       "5            12454.7\n",
       "11           13170.7\n",
       "9            17966.5\n",
       "10           18026.9"
      ]
     },
     "execution_count": 4,
     "metadata": {},
     "output_type": "execute_result"
    }
   ],
   "source": [
    "# As our predictor variable, we will take months but reordered by the months that have seen the most rain \n",
    "# historically. In that way, by restarting the indexes the x axis will make sense: 0 will be July, the driest month,\n",
    "# and 11 will be October, the wettest. Hence, we will be measuring the chance of extreme rain as the months become\n",
    "# rainier, since analysing with months in their natural order would make no sense in a regression\n",
    "\n",
    "by_month = df[[\"Month\", \"Precipitation\"]]\n",
    "\n",
    "added_m = by_month.groupby(\"Month\").aggregate(sum)\n",
    "\n",
    "added_m.sort_values(by=\"Precipitation\", ascending=True, inplace=True)\n",
    "\n",
    "added_m.head(12)"
   ]
  },
  {
   "cell_type": "code",
   "execution_count": 5,
   "id": "ef8fe8e0",
   "metadata": {
    "ExecuteTime": {
     "end_time": "2021-09-22T15:03:59.843073Z",
     "start_time": "2021-09-22T15:03:59.822087Z"
    }
   },
   "outputs": [],
   "source": [
    "# Convert months into ranking of accumulated rain:\n",
    "\n",
    "df[\"independent_var\"] = df[\"Month\"].copy()\n",
    "\n",
    "old_months = [1, 2, 3, 4, 5, 6, 7, 8, 9, 10, 11, 12]\n",
    "\n",
    "new_months = [4, 2, 7, 8, 9, 3, 1, 5, 11, 12, 10, 6]\n",
    "\n",
    "df[\"independent_var\"] = df[\"independent_var\"].replace(old_months, new_months)"
   ]
  },
  {
   "cell_type": "code",
   "execution_count": 6,
   "id": "34743cd1",
   "metadata": {
    "ExecuteTime": {
     "end_time": "2021-09-22T15:03:59.866313Z",
     "start_time": "2021-09-22T15:03:59.848064Z"
    }
   },
   "outputs": [],
   "source": [
    "# Create X and y variables and split them\n",
    "\n",
    "X = df[[\"independent_var\", \"Temperature\"]]\n",
    "\n",
    "y = df[\"Precipitation\"]\n",
    "\n",
    "X_train, X_test, y_train, y_test = train_test_split(X, y, test_size = 0.25, random_state = 0)"
   ]
  },
  {
   "cell_type": "code",
   "execution_count": 7,
   "id": "1ab7e604",
   "metadata": {
    "ExecuteTime": {
     "end_time": "2021-09-22T15:04:00.168139Z",
     "start_time": "2021-09-22T15:03:59.869389Z"
    }
   },
   "outputs": [
    {
     "data": {
      "text/plain": [
       "array([0.32150014, 0.67849986])"
      ]
     },
     "execution_count": 7,
     "metadata": {},
     "output_type": "execute_result"
    }
   ],
   "source": [
    "# Start with Random Forest Regressor model:\n",
    "\n",
    "rf = RandomForestRegressor(n_estimators = 100, random_state = 42)\n",
    "\n",
    "rf.fit(X_train, y_train)\n",
    "\n",
    "Y_pred = rf.predict(X_test)\n",
    "\n",
    "rf.feature_importances_\n",
    "\n",
    "# Temperature seems to be the most important predictor"
   ]
  },
  {
   "cell_type": "code",
   "execution_count": 8,
   "id": "47ada375",
   "metadata": {
    "ExecuteTime": {
     "end_time": "2021-09-22T15:04:00.241597Z",
     "start_time": "2021-09-22T15:04:00.173424Z"
    }
   },
   "outputs": [
    {
     "name": "stdout",
     "output_type": "stream",
     "text": [
      "R^2 score: 0.3736211185468865\n",
      "R^2 score: -0.13782470001727964\n",
      "RMSE score: 48.232988208363054\n"
     ]
    }
   ],
   "source": [
    "print(\"R^2 score: \" + str(rf.score(X_train, y_train)))\n",
    "print(\"R^2 score: \" + str(rf.score(X_test, y_test)))\n",
    "\n",
    "print(\"RMSE score: \" + str(np.sqrt(mse(y_test, Y_pred))))\n",
    "\n",
    "# These indexes point towards a non-relationship between the variables in study"
   ]
  },
  {
   "cell_type": "code",
   "execution_count": 9,
   "id": "e89738c9",
   "metadata": {
    "ExecuteTime": {
     "end_time": "2021-09-22T15:04:00.274388Z",
     "start_time": "2021-09-22T15:04:00.245793Z"
    }
   },
   "outputs": [],
   "source": [
    "# Now a simple linear regression is tried. First we add a constant:\n",
    "\n",
    "X_train = sm.add_constant(X_train) \n",
    "X_test = sm.add_constant(X_test) "
   ]
  },
  {
   "cell_type": "code",
   "execution_count": 10,
   "id": "95e263cc",
   "metadata": {
    "ExecuteTime": {
     "end_time": "2021-09-22T15:04:00.303740Z",
     "start_time": "2021-09-22T15:04:00.277389Z"
    }
   },
   "outputs": [
    {
     "data": {
      "text/html": [
       "<table class=\"simpletable\">\n",
       "<caption>OLS Regression Results</caption>\n",
       "<tr>\n",
       "  <th>Dep. Variable:</th>      <td>Precipitation</td>  <th>  R-squared:         </th> <td>   0.111</td> \n",
       "</tr>\n",
       "<tr>\n",
       "  <th>Model:</th>                   <td>OLS</td>       <th>  Adj. R-squared:    </th> <td>   0.110</td> \n",
       "</tr>\n",
       "<tr>\n",
       "  <th>Method:</th>             <td>Least Squares</td>  <th>  F-statistic:       </th> <td>   128.3</td> \n",
       "</tr>\n",
       "<tr>\n",
       "  <th>Date:</th>             <td>Wed, 22 Sep 2021</td> <th>  Prob (F-statistic):</th> <td>3.14e-53</td> \n",
       "</tr>\n",
       "<tr>\n",
       "  <th>Time:</th>                 <td>17:04:00</td>     <th>  Log-Likelihood:    </th> <td> -10650.</td> \n",
       "</tr>\n",
       "<tr>\n",
       "  <th>No. Observations:</th>      <td>  2061</td>      <th>  AIC:               </th> <td>2.131e+04</td>\n",
       "</tr>\n",
       "<tr>\n",
       "  <th>Df Residuals:</th>          <td>  2058</td>      <th>  BIC:               </th> <td>2.132e+04</td>\n",
       "</tr>\n",
       "<tr>\n",
       "  <th>Df Model:</th>              <td>     2</td>      <th>                     </th>     <td> </td>    \n",
       "</tr>\n",
       "<tr>\n",
       "  <th>Covariance Type:</th>      <td>nonrobust</td>    <th>                     </th>     <td> </td>    \n",
       "</tr>\n",
       "</table>\n",
       "<table class=\"simpletable\">\n",
       "<tr>\n",
       "         <td></td>            <th>coef</th>     <th>std err</th>      <th>t</th>      <th>P>|t|</th>  <th>[0.025</th>    <th>0.975]</th>  \n",
       "</tr>\n",
       "<tr>\n",
       "  <th>const</th>           <td>   16.7318</td> <td>    3.209</td> <td>    5.214</td> <td> 0.000</td> <td>   10.438</td> <td>   23.025</td>\n",
       "</tr>\n",
       "<tr>\n",
       "  <th>independent_var</th> <td>    4.3203</td> <td>    0.271</td> <td>   15.957</td> <td> 0.000</td> <td>    3.789</td> <td>    4.851</td>\n",
       "</tr>\n",
       "<tr>\n",
       "  <th>Temperature</th>     <td>    0.2919</td> <td>    0.170</td> <td>    1.712</td> <td> 0.087</td> <td>   -0.042</td> <td>    0.626</td>\n",
       "</tr>\n",
       "</table>\n",
       "<table class=\"simpletable\">\n",
       "<tr>\n",
       "  <th>Omnibus:</th>       <td>857.208</td> <th>  Durbin-Watson:     </th> <td>   1.915</td>\n",
       "</tr>\n",
       "<tr>\n",
       "  <th>Prob(Omnibus):</th> <td> 0.000</td>  <th>  Jarque-Bera (JB):  </th> <td>4875.120</td>\n",
       "</tr>\n",
       "<tr>\n",
       "  <th>Skew:</th>          <td> 1.884</td>  <th>  Prob(JB):          </th> <td>    0.00</td>\n",
       "</tr>\n",
       "<tr>\n",
       "  <th>Kurtosis:</th>      <td> 9.524</td>  <th>  Cond. No.          </th> <td>    57.6</td>\n",
       "</tr>\n",
       "</table><br/><br/>Notes:<br/>[1] Standard Errors assume that the covariance matrix of the errors is correctly specified."
      ],
      "text/plain": [
       "<class 'statsmodels.iolib.summary.Summary'>\n",
       "\"\"\"\n",
       "                            OLS Regression Results                            \n",
       "==============================================================================\n",
       "Dep. Variable:          Precipitation   R-squared:                       0.111\n",
       "Model:                            OLS   Adj. R-squared:                  0.110\n",
       "Method:                 Least Squares   F-statistic:                     128.3\n",
       "Date:                Wed, 22 Sep 2021   Prob (F-statistic):           3.14e-53\n",
       "Time:                        17:04:00   Log-Likelihood:                -10650.\n",
       "No. Observations:                2061   AIC:                         2.131e+04\n",
       "Df Residuals:                    2058   BIC:                         2.132e+04\n",
       "Df Model:                           2                                         \n",
       "Covariance Type:            nonrobust                                         \n",
       "===================================================================================\n",
       "                      coef    std err          t      P>|t|      [0.025      0.975]\n",
       "-----------------------------------------------------------------------------------\n",
       "const              16.7318      3.209      5.214      0.000      10.438      23.025\n",
       "independent_var     4.3203      0.271     15.957      0.000       3.789       4.851\n",
       "Temperature         0.2919      0.170      1.712      0.087      -0.042       0.626\n",
       "==============================================================================\n",
       "Omnibus:                      857.208   Durbin-Watson:                   1.915\n",
       "Prob(Omnibus):                  0.000   Jarque-Bera (JB):             4875.120\n",
       "Skew:                           1.884   Prob(JB):                         0.00\n",
       "Kurtosis:                       9.524   Cond. No.                         57.6\n",
       "==============================================================================\n",
       "\n",
       "Notes:\n",
       "[1] Standard Errors assume that the covariance matrix of the errors is correctly specified.\n",
       "\"\"\""
      ]
     },
     "execution_count": 10,
     "metadata": {},
     "output_type": "execute_result"
    }
   ],
   "source": [
    "# Then we instantiate the model:\n",
    "\n",
    "model = sm.OLS(y_train, X_train).fit()\n",
    "\n",
    "predictions = model.predict(X_test)\n",
    "\n",
    "model.summary()\n",
    "\n",
    "# The results could indicate a correlation between the target value and the predictors; however, the R^2 is very\n",
    "# low, indicating an imperfect. As a result, a correlation between variables cannot be assured."
   ]
  },
  {
   "cell_type": "code",
   "execution_count": 11,
   "id": "3a51ea00",
   "metadata": {
    "ExecuteTime": {
     "end_time": "2021-09-22T15:04:00.313523Z",
     "start_time": "2021-09-22T15:04:00.307313Z"
    }
   },
   "outputs": [
    {
     "name": "stdout",
     "output_type": "stream",
     "text": [
      "RMSE: 45.03933949296932\n"
     ]
    }
   ],
   "source": [
    "rmse = np.sqrt(model.mse_total)\n",
    "\n",
    "print(\"RMSE: \" + str(rmse))\n",
    "\n",
    "# Quite high value of unexplained variance: overall, a not good enough model"
   ]
  },
  {
   "cell_type": "code",
   "execution_count": null,
   "id": "26f0a8f2",
   "metadata": {
    "ExecuteTime": {
     "end_time": "2021-09-22T13:06:29.365692Z",
     "start_time": "2021-09-22T13:06:29.253955Z"
    }
   },
   "outputs": [],
   "source": [
    "# Conclusions:\n",
    "\n",
    "    # The results for these models are not significant enough to state that there is a correlation between \n",
    "    # temperature or month of the year and precipitation. More data has to be added to the\n",
    "    # dataset so that other variables can be studied. \n",
    "    \n",
    "    # However, the conclusions we can extract from the descriptive analysis are that the rainiest seasons are \n",
    "    # Autumn and Fall and that overall the amount of rain in a year is larger now than during the XIXth Century. \n",
    "    # In terms of high temperatures, plenty of the most extreme cases have happened in the first two decades of the\n",
    "    # XXIst Century.\n",
    "    \n",
    "    "
   ]
  },
  {
   "cell_type": "code",
   "execution_count": null,
   "id": "1f59e9df",
   "metadata": {
    "ExecuteTime": {
     "end_time": "2021-09-22T13:07:30.478346Z",
     "start_time": "2021-09-22T13:07:30.469209Z"
    }
   },
   "outputs": [],
   "source": [
    "\n"
   ]
  },
  {
   "cell_type": "code",
   "execution_count": null,
   "id": "8d2eb95f",
   "metadata": {
    "ExecuteTime": {
     "end_time": "2021-09-22T14:57:19.497639Z",
     "start_time": "2021-09-22T14:57:17.077Z"
    }
   },
   "outputs": [],
   "source": [
    "# Instantiate the Logistic Regression Model:\n",
    "\n",
    "logreg = LogisticRegression(class_weight=\"balanced\")\n",
    "\n",
    "logreg.fit(X_train,y_train)\n",
    "\n",
    "y_pred=logreg.predict(X_test)"
   ]
  },
  {
   "cell_type": "code",
   "execution_count": null,
   "id": "b43c057b",
   "metadata": {
    "ExecuteTime": {
     "end_time": "2021-09-22T14:57:19.502882Z",
     "start_time": "2021-09-22T14:57:17.079Z"
    }
   },
   "outputs": [],
   "source": [
    "# Confusion matrix:\n",
    "\n",
    "cnf_matrix = metrics.confusion_matrix(y_test, y_pred)\n",
    "\n",
    "cnf_matrix\n",
    "\n",
    "# 54 true positives and 404 true negatives; 247 cases incorrectly classified"
   ]
  },
  {
   "cell_type": "code",
   "execution_count": null,
   "id": "6cd073f0",
   "metadata": {
    "ExecuteTime": {
     "end_time": "2021-09-22T14:57:19.506265Z",
     "start_time": "2021-09-22T14:57:17.081Z"
    }
   },
   "outputs": [],
   "source": [
    "# AUC score:\n",
    "\n",
    "y_pred_prob = logreg.predict_proba(X_test)[:, 1] \n",
    "\n",
    "metrics.roc_auc_score(y_test, y_pred_prob)\n",
    "\n",
    "# Quita bad AUC score, it would be more efficient to detect all cases as non-rainy"
   ]
  },
  {
   "cell_type": "code",
   "execution_count": null,
   "id": "27c73ca5",
   "metadata": {
    "ExecuteTime": {
     "end_time": "2021-09-22T14:57:19.510359Z",
     "start_time": "2021-09-22T14:57:17.083Z"
    }
   },
   "outputs": [],
   "source": [
    "# Now use of a SVC algorithm instead to see if it improves performance:\n",
    "\n",
    "vector = svm.SVC(kernel='linear', probability=True, class_weight=\"balanced\")\n",
    "\n",
    "vector.fit(X_train, y_train)\n",
    "\n",
    "y_pred = vector.predict(X_test)"
   ]
  },
  {
   "cell_type": "code",
   "execution_count": null,
   "id": "c022ae5f",
   "metadata": {
    "ExecuteTime": {
     "end_time": "2021-09-22T14:57:19.513753Z",
     "start_time": "2021-09-22T14:57:17.085Z"
    }
   },
   "outputs": [],
   "source": [
    "# Confusion matrix:\n",
    "\n",
    "cnf_matrix = metrics.confusion_matrix(y_test, y_pred)\n",
    "\n",
    "cnf_matrix\n",
    "\n",
    "# Same results as logistic regression"
   ]
  },
  {
   "cell_type": "code",
   "execution_count": null,
   "id": "6356ab29",
   "metadata": {
    "ExecuteTime": {
     "end_time": "2021-09-22T14:57:19.516606Z",
     "start_time": "2021-09-22T14:57:17.087Z"
    }
   },
   "outputs": [],
   "source": [
    "# AUC score:\n",
    "\n",
    "y_pred_prob = logreg.predict_proba(X_test)[:, 1] \n",
    "\n",
    "metrics.roc_auc_score(y_test, y_pred_prob)"
   ]
  },
  {
   "cell_type": "code",
   "execution_count": null,
   "id": "485f82b2",
   "metadata": {
    "ExecuteTime": {
     "end_time": "2021-09-22T14:57:19.522842Z",
     "start_time": "2021-09-22T14:57:17.089Z"
    }
   },
   "outputs": [],
   "source": [
    "# Interpretation of the results: \n",
    "\n",
    "    # If we take a period of 2 years approximately (705 days, size of y_test), by only being based on the month \n",
    "    # of the year, we could detect 54 out of 85 very rainy days. This would come at the cost of misclassifying 247\n",
    "    # days\n",
    "    \n",
    "    # It appears quite obvious that this method or approach has been insufficient. \n",
    "    \n",
    "    "
   ]
  },
  {
   "cell_type": "code",
   "execution_count": null,
   "id": "e8cbacf1",
   "metadata": {
    "ExecuteTime": {
     "end_time": "2021-09-22T14:57:19.528335Z",
     "start_time": "2021-09-22T14:57:17.091Z"
    }
   },
   "outputs": [],
   "source": [
    "# We already saw on Descriptive Analysis that 75% of months rains 69,1 l/m^2 or less. We will make a target value\n",
    "# with this mark as the threshold\n",
    "\n",
    "def rain_thresh(rain):\n",
    "    if rain <= 69.1:\n",
    "        return 0\n",
    "    else:\n",
    "        return 1\n",
    "\n",
    "df[\"target\"] = df[\"Precipitation\"].apply(rain_thresh)"
   ]
  },
  {
   "cell_type": "code",
   "execution_count": null,
   "id": "461378b5",
   "metadata": {
    "ExecuteTime": {
     "end_time": "2021-09-22T14:57:19.531937Z",
     "start_time": "2021-09-22T14:57:17.093Z"
    }
   },
   "outputs": [],
   "source": [
    "df[df[\"target\"] == 1].describe() \n",
    "\n",
    "# If we examine the values within the highest 25% of rainy days (which probably correspond to Autumn days), we see\n",
    "# more inequality among values; to get the extreme values, we will analyse values that are higher than 100 l/m^2"
   ]
  },
  {
   "cell_type": "code",
   "execution_count": null,
   "id": "2f7b393f",
   "metadata": {
    "ExecuteTime": {
     "end_time": "2021-09-22T14:57:19.544312Z",
     "start_time": "2021-09-22T14:57:17.096Z"
    }
   },
   "outputs": [],
   "source": [
    "# We reapply the previous function with the threshold increased:\n",
    "\n",
    "def rain_extreme(rain):\n",
    "    if rain <= 100:\n",
    "        return 0\n",
    "    else:\n",
    "        return 1\n",
    "\n",
    "df[\"target\"] = df[\"Precipitation\"].apply(rain_extreme)"
   ]
  }
 ],
 "metadata": {
  "kernelspec": {
   "display_name": "Python 3",
   "language": "python",
   "name": "python3"
  },
  "language_info": {
   "codemirror_mode": {
    "name": "ipython",
    "version": 3
   },
   "file_extension": ".py",
   "mimetype": "text/x-python",
   "name": "python",
   "nbconvert_exporter": "python",
   "pygments_lexer": "ipython3",
   "version": "3.8.8"
  },
  "varInspector": {
   "cols": {
    "lenName": 16,
    "lenType": 16,
    "lenVar": 40
   },
   "kernels_config": {
    "python": {
     "delete_cmd_postfix": "",
     "delete_cmd_prefix": "del ",
     "library": "var_list.py",
     "varRefreshCmd": "print(var_dic_list())"
    },
    "r": {
     "delete_cmd_postfix": ") ",
     "delete_cmd_prefix": "rm(",
     "library": "var_list.r",
     "varRefreshCmd": "cat(var_dic_list()) "
    }
   },
   "types_to_exclude": [
    "module",
    "function",
    "builtin_function_or_method",
    "instance",
    "_Feature"
   ],
   "window_display": false
  }
 },
 "nbformat": 4,
 "nbformat_minor": 5
}
